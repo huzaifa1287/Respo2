{
 "cells": [
  {
   "cell_type": "markdown",
   "metadata": {},
   "source": [
    "# Write a Python function to calculate the factorial of a number (a non-negative\n",
    "integer). The function accepts the number as an argument."
   ]
  },
  {
   "cell_type": "code",
   "execution_count": 1,
   "metadata": {},
   "outputs": [
    {
     "name": "stdout",
     "output_type": "stream",
     "text": [
      "Enter Number to calculate it's factorial: 5\n",
      "120\n"
     ]
    }
   ],
   "source": [
    "def isPositiveInteger(number):\n",
    "    if int(number) > 0 :\n",
    "        return True\n",
    "    else:\n",
    "        return False\n",
    "def calcFactorial(number):\n",
    "    factorial = 1\n",
    "    if isPositiveInteger(number) == True:\n",
    "        number = int(number)\n",
    "        for i in range(1, number + 1):\n",
    "            factorial = factorial * i\n",
    "        print(factorial)\n",
    "    else:\n",
    "        print(\"Invalid input\")\n",
    "\n",
    "factCalc = input(\"Enter Number to calculate it's factorial: \")\n",
    "calcFactorial(factCalc)\n"
   ]
  },
  {
   "cell_type": "markdown",
   "metadata": {},
   "source": [
    "# Write a Python function that accepts a string and calculate the number of upper\n",
    "case letters and lower case letters."
   ]
  },
  {
   "cell_type": "code",
   "execution_count": 12,
   "metadata": {},
   "outputs": [
    {
     "name": "stdout",
     "output_type": "stream",
     "text": [
      "Enter String:how\n",
      "Upper case 0\n",
      "Lower case 3\n"
     ]
    }
   ],
   "source": [
    "def CountUpperLower(stns):\n",
    "    upper=0;\n",
    "    lower=0;\n",
    "    for i in stns:\n",
    "        if i>=\"A\" and i<=\"Z\":\n",
    "            upper +=1;\n",
    "        elif i>=\"a\" and i<=\"z\":\n",
    "            lower +=1;\n",
    "    print(\"Upper case\",upper);\n",
    "    print(\"Lower case\", lower);\n",
    "\n",
    "stns = input(\"Enter String:\");\n",
    "CountUpperLower(stns);"
   ]
  },
  {
   "cell_type": "markdown",
   "metadata": {},
   "source": [
    "# Write a Python function to print the even numbers from a given list."
   ]
  },
  {
   "cell_type": "code",
   "execution_count": 14,
   "metadata": {},
   "outputs": [
    {
     "name": "stdout",
     "output_type": "stream",
     "text": [
      "Enter number of element you want to enter5\n",
      "2\n",
      "5\n",
      "10\n",
      "12\n",
      "13\n",
      "2, 10, 12, "
     ]
    }
   ],
   "source": [
    "\n",
    "\n",
    "List = [];\n",
    "n = int(input(\"Enter number of element you want to enter\"));\n",
    "for i in range(0, n):\n",
    "    num= int(input());\n",
    "    List.append(num)\n",
    "#print(List);\n",
    "def EvenNum(List):\n",
    "    for num in List:\n",
    "        if num % 2==0:  \n",
    "            print(num, end =\", \");\n",
    "EvenNum(List);\n",
    "\n"
   ]
  },
  {
   "cell_type": "markdown",
   "metadata": {},
   "source": [
    "# Write a Python function that checks whether a passed string is palindrome or not.\n",
    "Note: A palindrome is a word, phrase, or sequence that reads the same\n",
    "backward as forward, e.g., madam"
   ]
  },
  {
   "cell_type": "code",
   "execution_count": 17,
   "metadata": {},
   "outputs": [
    {
     "name": "stdout",
     "output_type": "stream",
     "text": [
      "Etner word to check is it Palindrome: madam\n",
      "The string is a palindrome\n"
     ]
    }
   ],
   "source": [
    "\n",
    "\n",
    "def checkPaln(string):\n",
    "    if(string==string[::-1]):\n",
    "        print(\"The string is a palindrome\")\n",
    "    else:\n",
    "        print(\"Not a palindrome\")\n",
    "string= input(\"Etner word to check is it Palindrome: \");\n",
    "checkPaln(string)\n",
    "\n"
   ]
  },
  {
   "cell_type": "markdown",
   "metadata": {},
   "source": [
    "# Write a Python function that takes a number as a parameter and check the\n",
    "number is prime or not."
   ]
  },
  {
   "cell_type": "code",
   "execution_count": 16,
   "metadata": {},
   "outputs": [
    {
     "name": "stdout",
     "output_type": "stream",
     "text": [
      "Enter number to check it is prime or not: 7\n",
      "7 is a prime number \n"
     ]
    }
   ],
   "source": [
    "num = int(input(\"Enter number to check it is prime or not: \"));\n",
    "def checkPrime(num):\n",
    "    if num>1:\n",
    "        for i in range(2,num//2):\n",
    "            if(num % i)==0:\n",
    "                print(num, \" is not a prime\");\n",
    "                break;\n",
    "            else:\n",
    "                print(num, \"is a prime number \");\n",
    "    else:\n",
    "        print(num, \"is not a prime number\");\n",
    "\n",
    "checkPrime(num);"
   ]
  },
  {
   "cell_type": "markdown",
   "metadata": {},
   "source": [
    "# Suppose a customer is shopping in a market and you need to print all the items\n",
    "which user bought from market.\n",
    "Write a function which accepts the multiple arguments of user shopping list and\n",
    "print all the items which user bought from market.\n",
    "(Hint: Arbitrary Argument concept can make this task ease)"
   ]
  },
  {
   "cell_type": "code",
   "execution_count": null,
   "metadata": {},
   "outputs": [],
   "source": [
    "def shoppingList(*items):\n",
    "      shoppingItems = []\n",
    "while True:\n",
    "        item = input(\"Enter Shopping item [-1 to abort]: \")\n",
    "        if item != '-1':\n",
    "            shoppingItems.append(item)\n",
    "        else:\n",
    "            break\n",
    "for item in range(len(shoppingItems)):\n",
    "          print(\"You purchased: {}\".format(shoppingItems[item]))\n",
    "          shoppingList()\n"
   ]
  },
  {
   "cell_type": "code",
   "execution_count": null,
   "metadata": {},
   "outputs": [],
   "source": []
  }
 ],
 "metadata": {
  "kernelspec": {
   "display_name": "Python 3",
   "language": "python",
   "name": "python3"
  },
  "language_info": {
   "codemirror_mode": {
    "name": "ipython",
    "version": 3
   },
   "file_extension": ".py",
   "mimetype": "text/x-python",
   "name": "python",
   "nbconvert_exporter": "python",
   "pygments_lexer": "ipython3",
   "version": "3.7.3"
  }
 },
 "nbformat": 4,
 "nbformat_minor": 2
}
